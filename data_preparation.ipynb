{
 "cells": [
  {
   "cell_type": "code",
   "execution_count": 12,
   "metadata": {},
   "outputs": [],
   "source": [
    "def conll_to_txt(file_path):\n",
    "    with open(file_path) as f_in:\n",
    "        lines = f_in.readlines()\n",
    "\n",
    "    with open(file_path.split(\".\")[0] + \".txt\", \"w\") as f_out:\n",
    "        for line in lines:\n",
    "            splitted_line = line.split(\" \")\n",
    "            if len(splitted_line) > 1:\n",
    "                f_out.write(splitted_line[0] + \"\\t\" + splitted_line[-1])\n",
    "            else:\n",
    "                f_out.write(line)"
   ]
  },
  {
   "cell_type": "code",
   "execution_count": 13,
   "metadata": {},
   "outputs": [],
   "source": [
    "conll_to_txt(\"E:/TCM/continual learning/CFNER/datasets/NER_data/tcm09/dev.conll\")"
   ]
  },
  {
   "cell_type": "code",
   "execution_count": 14,
   "metadata": {},
   "outputs": [],
   "source": [
    "conll_to_txt(\"E:/TCM/continual learning/CFNER/datasets/NER_data/tcm09/train.conll\")"
   ]
  },
  {
   "cell_type": "code",
   "execution_count": 15,
   "metadata": {},
   "outputs": [],
   "source": [
    "conll_to_txt(\"E:/TCM/continual learning/CFNER/datasets/NER_data/tcm09/test.conll\")"
   ]
  },
  {
   "cell_type": "code",
   "execution_count": null,
   "metadata": {},
   "outputs": [],
   "source": []
  }
 ],
 "metadata": {
  "kernelspec": {
   "display_name": "base",
   "language": "python",
   "name": "python3"
  },
  "language_info": {
   "codemirror_mode": {
    "name": "ipython",
    "version": 3
   },
   "file_extension": ".py",
   "mimetype": "text/x-python",
   "name": "python",
   "nbconvert_exporter": "python",
   "pygments_lexer": "ipython3",
   "version": "3.9.12"
  },
  "orig_nbformat": 4
 },
 "nbformat": 4,
 "nbformat_minor": 2
}
